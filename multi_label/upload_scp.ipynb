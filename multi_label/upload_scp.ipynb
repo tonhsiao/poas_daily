{
 "cells": [
  {
   "cell_type": "code",
   "execution_count": 1,
   "id": "936493d9",
   "metadata": {},
   "outputs": [],
   "source": [
    "# !./sshpass -p 'AIA@10@Fruit' scp ./ftp_upload_test.csv root@159.223.59.207:/var/www/html/Fruit/pubCache"
   ]
  },
  {
   "cell_type": "code",
   "execution_count": null,
   "id": "e10f7dd1",
   "metadata": {},
   "outputs": [],
   "source": [
    "# -o StrictHostKeyChecking=no -o UserKnownHostsFile=/dev/null "
   ]
  },
  {
   "cell_type": "code",
   "execution_count": null,
   "id": "11ddadef",
   "metadata": {},
   "outputs": [],
   "source": [
    "!./sshpass -p 'AIA@10@Fruit' scp -q -o StrictHostKeyChecking=no -o UserKnownHostsFile=/dev/null ./ftp_upload_test.csv root@159.223.59.207:/var/www/html/Fruit/pubCache"
   ]
  }
 ],
 "metadata": {
  "kernelspec": {
   "display_name": "Python 3 (ipykernel)",
   "language": "python",
   "name": "python3"
  },
  "language_info": {
   "codemirror_mode": {
    "name": "ipython",
    "version": 3
   },
   "file_extension": ".py",
   "mimetype": "text/x-python",
   "name": "python",
   "nbconvert_exporter": "python",
   "pygments_lexer": "ipython3",
   "version": "3.7.10"
  }
 },
 "nbformat": 4,
 "nbformat_minor": 5
}
