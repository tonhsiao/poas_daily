{
 "cells": [
  {
   "cell_type": "markdown",
   "id": "9a71eb60",
   "metadata": {},
   "source": [
    "## Step1：取得資料"
   ]
  },
  {
   "cell_type": "code",
   "execution_count": 1,
   "id": "542a61a6",
   "metadata": {},
   "outputs": [],
   "source": [
    "# import date\n",
    "import datetime\n",
    "import pandas as pd\n",
    "from pathlib import Path\n",
    "\n",
    "d1 = datetime.date.today().strftime(\"%Y-%m-%d\")\n",
    "d1 = '2021-12-30'"
   ]
  },
  {
   "cell_type": "code",
   "execution_count": 2,
   "id": "cbdcb7bd",
   "metadata": {},
   "outputs": [],
   "source": [
    "df = pd.read_csv('./../crawler_data/clean_data/data_' + d1 + '.csv', sep=',')   \n",
    "df_raw = df[['發文者','標題','推回文類別','內容','發文時間','觀看次數','推噓評價','發文者分數','URL','crawel_type']]\n",
    "# df_raw.head(2)"
   ]
  },
  {
   "cell_type": "code",
   "execution_count": 3,
   "id": "4774afb0",
   "metadata": {
    "collapsed": true,
    "id": "ADh9l-RWNSDU",
    "jupyter": {
     "outputs_hidden": true
    }
   },
   "outputs": [
    {
     "name": "stderr",
     "output_type": "stream",
     "text": [
      "/opt/conda/lib/python3.7/site-packages/ipykernel_launcher.py:12: SettingWithCopyWarning: \n",
      "A value is trying to be set on a copy of a slice from a DataFrame.\n",
      "Try using .loc[row_indexer,col_indexer] = value instead\n",
      "\n",
      "See the caveats in the documentation: https://pandas.pydata.org/pandas-docs/stable/user_guide/indexing.html#returning-a-view-versus-a-copy\n",
      "  if sys.path[0] == '':\n",
      "/opt/conda/lib/python3.7/site-packages/ipykernel_launcher.py:13: SettingWithCopyWarning: \n",
      "A value is trying to be set on a copy of a slice from a DataFrame.\n",
      "Try using .loc[row_indexer,col_indexer] = value instead\n",
      "\n",
      "See the caveats in the documentation: https://pandas.pydata.org/pandas-docs/stable/user_guide/indexing.html#returning-a-view-versus-a-copy\n",
      "  del sys.path[0]\n"
     ]
    }
   ],
   "source": [
    "# from bs4 import BeautifulSoup\n",
    "import re\n",
    "\n",
    "def pre_process(text):\n",
    "\n",
    "  text = re.sub(\"\\n\", \"\", text)\n",
    "  text = re.sub(\"https?:\\/\\/\\S*\", \"\", text)\n",
    "  tokens = text.split()\n",
    "  return \" \".join(tokens)\n",
    "\n",
    "# clean the text in Body column\n",
    "df_raw['內容'] = df_raw['內容'].apply(pre_process)\n",
    "df_raw['標題'] = df_raw['標題'].apply(pre_process)"
   ]
  },
  {
   "cell_type": "code",
   "execution_count": 4,
   "id": "dad4864a",
   "metadata": {},
   "outputs": [
    {
     "data": {
      "text/plain": [
       "0     我今天幫客戶裝機的時候遇到一個很奇怪的問題\\n\\n中華電信給我的單子有以下資訊\\nMask ...\n",
       "1     請問目前各家電信，\\n單純門號續約，還有500元以內的4G吃到飽不限速嗎？\\n有沒有送市話的...\n",
       "2     依照你的價格需求，\\n目前應該只能先往台灣之星和亞太去找，\\n關鍵字：新朋友399、238吃到飽。\n",
       "3     在各電信收訊良好的情況\\n可以考慮\\n7-11的ibon mobile不限速(走遠傳線路)4...\n",
       "4                                   企客方案有，看你的公司有沒有符合資格。\n",
       "                            ...                        \n",
       "66    問題是中華不用吃到飽 也沒什麼選擇 換到中華以外的業者就比較能精打細算5G速度越快 流量就越...\n",
       "67    用慣不限速，改成量到降速會用的很痛苦，可以NP其他家不限速吃到飽，台哥699還包含D+2年會員可用\n",
       "68                    你水管跟圖奇扣掉還有超過24G 我是建議不要啦你不如續599吃到飽\n",
       "69    你網路用量大 可以辦5G 999 60GB到量還有4G 50M吃到飽購機優惠比較多！50M很...\n",
       "70                                        我4g吃到飽一個月 快一T\n",
       "Name: 內容, Length: 71, dtype: object"
      ]
     },
     "execution_count": 4,
     "metadata": {},
     "output_type": "execute_result"
    }
   ],
   "source": [
    "df['內容']"
   ]
  },
  {
   "cell_type": "markdown",
   "id": "11a7a402",
   "metadata": {},
   "source": [
    "## Step2: 取得各家情緒分數"
   ]
  },
  {
   "cell_type": "code",
   "execution_count": 5,
   "id": "01bbb786",
   "metadata": {},
   "outputs": [
    {
     "name": "stdout",
     "output_type": "stream",
     "text": [
      "Requirement already satisfied: transformers in /opt/conda/lib/python3.7/site-packages (4.15.0)\n",
      "Requirement already satisfied: packaging>=20.0 in /opt/conda/lib/python3.7/site-packages (from transformers) (21.0)\n",
      "Requirement already satisfied: regex!=2019.12.17 in /opt/conda/lib/python3.7/site-packages (from transformers) (2021.8.28)\n",
      "Requirement already satisfied: importlib-metadata in /opt/conda/lib/python3.7/site-packages (from transformers) (4.8.1)\n",
      "Requirement already satisfied: numpy>=1.17 in /opt/conda/lib/python3.7/site-packages (from transformers) (1.21.2)\n",
      "Requirement already satisfied: huggingface-hub<1.0,>=0.1.0 in /opt/conda/lib/python3.7/site-packages (from transformers) (0.4.0)\n",
      "Requirement already satisfied: filelock in /opt/conda/lib/python3.7/site-packages (from transformers) (3.4.2)\n",
      "Requirement already satisfied: tokenizers<0.11,>=0.10.1 in /opt/conda/lib/python3.7/site-packages (from transformers) (0.10.3)\n",
      "Requirement already satisfied: pyyaml>=5.1 in /opt/conda/lib/python3.7/site-packages (from transformers) (5.4.1)\n",
      "Requirement already satisfied: requests in /opt/conda/lib/python3.7/site-packages (from transformers) (2.26.0)\n",
      "Requirement already satisfied: sacremoses in /opt/conda/lib/python3.7/site-packages (from transformers) (0.0.47)\n",
      "Requirement already satisfied: tqdm>=4.27 in /opt/conda/lib/python3.7/site-packages (from transformers) (4.62.2)\n",
      "Requirement already satisfied: typing-extensions>=3.7.4.3 in /opt/conda/lib/python3.7/site-packages (from huggingface-hub<1.0,>=0.1.0->transformers) (3.10.0.0)\n",
      "Requirement already satisfied: pyparsing>=2.0.2 in /opt/conda/lib/python3.7/site-packages (from packaging>=20.0->transformers) (2.4.7)\n",
      "Requirement already satisfied: zipp>=0.5 in /opt/conda/lib/python3.7/site-packages (from importlib-metadata->transformers) (3.5.0)\n",
      "Requirement already satisfied: idna<4,>=2.5 in /opt/conda/lib/python3.7/site-packages (from requests->transformers) (3.1)\n",
      "Requirement already satisfied: urllib3<1.27,>=1.21.1 in /opt/conda/lib/python3.7/site-packages (from requests->transformers) (1.26.6)\n",
      "Requirement already satisfied: charset-normalizer~=2.0.0 in /opt/conda/lib/python3.7/site-packages (from requests->transformers) (2.0.0)\n",
      "Requirement already satisfied: certifi>=2017.4.17 in /opt/conda/lib/python3.7/site-packages (from requests->transformers) (2020.6.20)\n",
      "Requirement already satisfied: six in /opt/conda/lib/python3.7/site-packages (from sacremoses->transformers) (1.16.0)\n",
      "Requirement already satisfied: click in /opt/conda/lib/python3.7/site-packages (from sacremoses->transformers) (8.0.1)\n",
      "Requirement already satisfied: joblib in /opt/conda/lib/python3.7/site-packages (from sacremoses->transformers) (1.0.1)\n"
     ]
    }
   ],
   "source": [
    "!pip install transformers #--use-feature=2020-resolver #requests beautifulsoup4 pandas numpy"
   ]
  },
  {
   "cell_type": "code",
   "execution_count": 6,
   "id": "aecf099a",
   "metadata": {},
   "outputs": [],
   "source": [
    "from transformers import AutoTokenizer, AutoModelForSequenceClassification,DistilBertTokenizer, DistilBertModel\n",
    "import torch\n",
    "import transformers"
   ]
  },
  {
   "cell_type": "code",
   "execution_count": 7,
   "id": "87d31850",
   "metadata": {},
   "outputs": [],
   "source": [
    "pd.set_option('mode.chained_assignment', None)\n",
    "df_raw.loc[:,'corpus'] = df['標題'].fillna(' ') + \": \" + df['內容'].fillna(' ')"
   ]
  },
  {
   "cell_type": "code",
   "execution_count": 8,
   "id": "918438bb",
   "metadata": {},
   "outputs": [],
   "source": [
    "conditionFilter = 'and ~(corpus.str.contains(\"廣告\"))'\n",
    "conditionFET = 'corpus.str.contains(\"遠傳|FET\") '\n",
    "conditionCHT = 'corpus.str.contains(\"中華|CHT\") '\n",
    "conditionGT = 'corpus.str.contains(\"亞太|APGT\") '\n",
    "conditionTWN = 'corpus.str.contains(\"台哥大|台灣大|TWN\") '\n",
    "conditionTWNS = 'corpus.str.contains(\"台星|台灣之星\") '\n",
    "\n",
    "df_FET = df_raw.query(conditionFET + conditionFilter , engine='python')\n",
    "df_CHT = df_raw.query(conditionCHT + conditionFilter , engine='python')\n",
    "df_GT = df_raw.query(conditionGT + conditionFilter , engine='python')\n",
    "df_TWN = df_raw.query(conditionTWN + conditionFilter , engine='python')\n",
    "df_TWNS = df_raw.query(conditionTWNS + conditionFilter , engine='python')"
   ]
  },
  {
   "cell_type": "code",
   "execution_count": 9,
   "id": "199a130f",
   "metadata": {},
   "outputs": [
    {
     "data": {
      "text/plain": [
       "Embedding(105890, 768)"
      ]
     },
     "execution_count": 9,
     "metadata": {},
     "output_type": "execute_result"
    }
   ],
   "source": [
    "tokenizer = AutoTokenizer.from_pretrained('nlptown/bert-base-multilingual-uncased-sentiment')\n",
    "\n",
    "tokenizer.add_tokens(['遠傳','亞太','中華','台哥大','台灣大哥大','台星','台灣之星','5g','4g','5G','4G'], special_tokens=True)\n",
    "model = AutoModelForSequenceClassification.from_pretrained('nlptown/bert-base-multilingual-uncased-sentiment')\n",
    "model.aux_logits = False\n",
    "model.resize_token_embeddings(len(tokenizer))"
   ]
  },
  {
   "cell_type": "code",
   "execution_count": 10,
   "id": "01b786da",
   "metadata": {},
   "outputs": [
    {
     "data": {
      "text/html": [
       "<div>\n",
       "<style scoped>\n",
       "    .dataframe tbody tr th:only-of-type {\n",
       "        vertical-align: middle;\n",
       "    }\n",
       "\n",
       "    .dataframe tbody tr th {\n",
       "        vertical-align: top;\n",
       "    }\n",
       "\n",
       "    .dataframe thead th {\n",
       "        text-align: right;\n",
       "    }\n",
       "</style>\n",
       "<table border=\"1\" class=\"dataframe\">\n",
       "  <thead>\n",
       "    <tr style=\"text-align: right;\">\n",
       "      <th></th>\n",
       "      <th>發文者</th>\n",
       "      <th>標題</th>\n",
       "      <th>推回文類別</th>\n",
       "      <th>內容</th>\n",
       "      <th>發文時間</th>\n",
       "      <th>觀看次數</th>\n",
       "      <th>推噓評價</th>\n",
       "      <th>發文者分數</th>\n",
       "      <th>URL</th>\n",
       "      <th>crawel_type</th>\n",
       "      <th>corpus</th>\n",
       "    </tr>\n",
       "  </thead>\n",
       "  <tbody>\n",
       "    <tr>\n",
       "      <th>0</th>\n",
       "      <td>AntonyCyue</td>\n",
       "      <td>中華電信 IP設定疑問</td>\n",
       "      <td>主文</td>\n",
       "      <td>我今天幫客戶裝機的時候遇到一個很奇怪的問題中華電信給我的單子有以下資訊Mask 255.25...</td>\n",
       "      <td>2021-12-30 0:09</td>\n",
       "      <td>198.0</td>\n",
       "      <td>0.0</td>\n",
       "      <td>1分</td>\n",
       "      <td>https://www.mobile01.com/topicdetail.php?f=110...</td>\n",
       "      <td>Mobile01</td>\n",
       "      <td>中華電信 IP設定疑問: 我今天幫客戶裝機的時候遇到一個很奇怪的問題\\n\\n中華電信給我的單...</td>\n",
       "    </tr>\n",
       "    <tr>\n",
       "      <th>1</th>\n",
       "      <td>naturalman1979</td>\n",
       "      <td>門號續約4G吃到飽不限速</td>\n",
       "      <td>主文</td>\n",
       "      <td>請問目前各家電信，單純門號續約，還有500元以內的4G吃到飽不限速嗎？有沒有送市話的，謝謝！</td>\n",
       "      <td>2021-12-29 20:55</td>\n",
       "      <td>1452.0</td>\n",
       "      <td>3.0</td>\n",
       "      <td>97分</td>\n",
       "      <td>https://www.mobile01.com/topicdetail.php?f=18&amp;...</td>\n",
       "      <td>Mobile01</td>\n",
       "      <td>門號續約4G吃到飽不限速: 請問目前各家電信，\\n單純門號續約，還有500元以內的4G吃到飽...</td>\n",
       "    </tr>\n",
       "    <tr>\n",
       "      <th>2</th>\n",
       "      <td>老姆迷</td>\n",
       "      <td>門號續約4G吃到飽不限速</td>\n",
       "      <td>回文</td>\n",
       "      <td>依照你的價格需求，目前應該只能先往台灣之星和亞太去找，關鍵字：新朋友399、238吃到飽。</td>\n",
       "      <td>2021-12-29 21:30</td>\n",
       "      <td>0.0</td>\n",
       "      <td>0.0</td>\n",
       "      <td>126分</td>\n",
       "      <td>https://www.mobile01.com/topicdetail.php?f=18&amp;...</td>\n",
       "      <td>Mobile01</td>\n",
       "      <td>門號續約4G吃到飽不限速: 依照你的價格需求，\\n目前應該只能先往台灣之星和亞太去找，\\n關...</td>\n",
       "    </tr>\n",
       "  </tbody>\n",
       "</table>\n",
       "</div>"
      ],
      "text/plain": [
       "              發文者            標題 推回文類別  \\\n",
       "0      AntonyCyue   中華電信 IP設定疑問    主文   \n",
       "1  naturalman1979  門號續約4G吃到飽不限速    主文   \n",
       "2             老姆迷  門號續約4G吃到飽不限速    回文   \n",
       "\n",
       "                                                  內容              發文時間  \\\n",
       "0  我今天幫客戶裝機的時候遇到一個很奇怪的問題中華電信給我的單子有以下資訊Mask 255.25...   2021-12-30 0:09   \n",
       "1     請問目前各家電信，單純門號續約，還有500元以內的4G吃到飽不限速嗎？有沒有送市話的，謝謝！  2021-12-29 20:55   \n",
       "2      依照你的價格需求，目前應該只能先往台灣之星和亞太去找，關鍵字：新朋友399、238吃到飽。  2021-12-29 21:30   \n",
       "\n",
       "     觀看次數  推噓評價 發文者分數                                                URL  \\\n",
       "0   198.0   0.0    1分  https://www.mobile01.com/topicdetail.php?f=110...   \n",
       "1  1452.0   3.0   97分  https://www.mobile01.com/topicdetail.php?f=18&...   \n",
       "2     0.0   0.0  126分  https://www.mobile01.com/topicdetail.php?f=18&...   \n",
       "\n",
       "  crawel_type                                             corpus  \n",
       "0    Mobile01  中華電信 IP設定疑問: 我今天幫客戶裝機的時候遇到一個很奇怪的問題\\n\\n中華電信給我的單...  \n",
       "1    Mobile01  門號續約4G吃到飽不限速: 請問目前各家電信，\\n單純門號續約，還有500元以內的4G吃到飽...  \n",
       "2    Mobile01  門號續約4G吃到飽不限速: 依照你的價格需求，\\n目前應該只能先往台灣之星和亞太去找，\\n關...  "
      ]
     },
     "execution_count": 10,
     "metadata": {},
     "output_type": "execute_result"
    }
   ],
   "source": [
    "df_raw.head(3)"
   ]
  },
  {
   "cell_type": "code",
   "execution_count": 11,
   "id": "5b1a0a5b",
   "metadata": {},
   "outputs": [],
   "source": [
    "def get_score(com_type, corpus, content):\n",
    "    \n",
    "    if content.find(com_type):\n",
    "        corpus = content \n",
    "        #若內文有公司名稱,直接以內文分析, 標題不列入情緒分析\n",
    "        #若內文沒有公司名稱, 則以主題+內文分析.\n",
    "        #若只考慮內文,會有多筆都沒評分.\n",
    "    \n",
    "    tokens = tokenizer.encode(text=com_type, text_pair=corpus, \n",
    "                              return_tensors='pt', add_special_tokens = True)\n",
    "    result = model(tokens)\n",
    "    return int(torch.argmax(result.logits))+1\n",
    "\n",
    "com_arr = ['FET','GT','CHT','TWN','TWNS']\n",
    "com_name_arr = ['遠傳','亞太','中華','台哥大或台灣大哥大','台星或台灣之星']\n",
    "\n",
    "for i, v in enumerate(com_arr) :\n",
    "    df_raw['score'+v] = \" \"\n",
    "    if len(locals()['df_'+v].index) :\n",
    "        df_raw['score'+v] = pd.DataFrame(locals()['df_'+v]).apply(lambda r : get_score('對'+ com_name_arr[i] +'的看法:',\n",
    "                                                                                       r['corpus'][:500], r['內容'][:500]), axis=1)\n"
   ]
  },
  {
   "cell_type": "code",
   "execution_count": 17,
   "id": "9c043878",
   "metadata": {},
   "outputs": [
    {
     "data": {
      "text/plain": [
       "4"
      ]
     },
     "execution_count": 17,
     "metadata": {},
     "output_type": "execute_result"
    }
   ],
   "source": [
    "test = get_score('對遠傳的看法','好棒棒','')\n",
    "test"
   ]
  },
  {
   "cell_type": "code",
   "execution_count": 16,
   "id": "c7cb6249",
   "metadata": {},
   "outputs": [
    {
     "data": {
      "text/plain": [
       "4"
      ]
     },
     "execution_count": 16,
     "metadata": {},
     "output_type": "execute_result"
    }
   ],
   "source": [
    "test = get_score('對遠傳的看法','啊不就好棒棒','') #中文反話,需要透過FINE-TUNE調整.\n",
    "test"
   ]
  },
  {
   "cell_type": "code",
   "execution_count": 18,
   "id": "f61305d1",
   "metadata": {},
   "outputs": [
    {
     "data": {
      "text/html": [
       "<div>\n",
       "<style scoped>\n",
       "    .dataframe tbody tr th:only-of-type {\n",
       "        vertical-align: middle;\n",
       "    }\n",
       "\n",
       "    .dataframe tbody tr th {\n",
       "        vertical-align: top;\n",
       "    }\n",
       "\n",
       "    .dataframe thead th {\n",
       "        text-align: right;\n",
       "    }\n",
       "</style>\n",
       "<table border=\"1\" class=\"dataframe\">\n",
       "  <thead>\n",
       "    <tr style=\"text-align: right;\">\n",
       "      <th></th>\n",
       "      <th>標題</th>\n",
       "      <th>內容</th>\n",
       "      <th>scoreFET</th>\n",
       "      <th>scoreTWN</th>\n",
       "      <th>scoreCHT</th>\n",
       "      <th>scoreGT</th>\n",
       "      <th>scoreTWNS</th>\n",
       "    </tr>\n",
       "  </thead>\n",
       "  <tbody>\n",
       "    <tr>\n",
       "      <th>0</th>\n",
       "      <td>中華電信 IP設定疑問</td>\n",
       "      <td>我今天幫客戶裝機的時候遇到一個很奇怪的問題中華電信給我的單子有以下資訊Mask 255.255.255.248Gateway 192.168.11.172理論上我有 7個可用 IP ↓192.168.11.172192.168.11.173192.168.11.174192.168.11.175192.168.11.176192.168.11.177192.168.11.178首先 173 和 174 後端已經有設備在使用了，然後 175 不能用，數據機搜尋不到這個設備，我以為是設備故障，換了三台都一樣，後來我將設備的 IP 改為 171，居然可以使用，我太驚訝了，我很好奇為什麼，希望有大大能為我解惑....先在此感謝各位先進前輩~</td>\n",
       "      <td>NaN</td>\n",
       "      <td>NaN</td>\n",
       "      <td>2.0</td>\n",
       "      <td>NaN</td>\n",
       "      <td>NaN</td>\n",
       "    </tr>\n",
       "    <tr>\n",
       "      <th>1</th>\n",
       "      <td>門號續約4G吃到飽不限速</td>\n",
       "      <td>請問目前各家電信，單純門號續約，還有500元以內的4G吃到飽不限速嗎？有沒有送市話的，謝謝！</td>\n",
       "      <td>NaN</td>\n",
       "      <td>NaN</td>\n",
       "      <td>NaN</td>\n",
       "      <td>NaN</td>\n",
       "      <td>NaN</td>\n",
       "    </tr>\n",
       "    <tr>\n",
       "      <th>2</th>\n",
       "      <td>門號續約4G吃到飽不限速</td>\n",
       "      <td>依照你的價格需求，目前應該只能先往台灣之星和亞太去找，關鍵字：新朋友399、238吃到飽。</td>\n",
       "      <td>NaN</td>\n",
       "      <td>NaN</td>\n",
       "      <td>NaN</td>\n",
       "      <td>3.0</td>\n",
       "      <td>3.0</td>\n",
       "    </tr>\n",
       "    <tr>\n",
       "      <th>3</th>\n",
       "      <td>門號續約4G吃到飽不限速</td>\n",
       "      <td>在各電信收訊良好的情況可以考慮7-11的ibon mobile不限速(走遠傳線路)477元/月或無框行動不限速(走中華線路)466元/月(上述兩電信吃到飽不限速似乎好像有隱藏天花板，請自行查詢)或遠傳、台哥大的399電銷或亞太~12/31的238不限速吃到飽以上這些都低於500吃到飽另外，三大電信好像也有限速21M的吃到飽的方案，價錢大概都落在499元/月</td>\n",
       "      <td>3.0</td>\n",
       "      <td>3.0</td>\n",
       "      <td>3.0</td>\n",
       "      <td>3.0</td>\n",
       "      <td>NaN</td>\n",
       "    </tr>\n",
       "  </tbody>\n",
       "</table>\n",
       "</div>"
      ],
      "text/plain": [
       "             標題  \\\n",
       "0   中華電信 IP設定疑問   \n",
       "1  門號續約4G吃到飽不限速   \n",
       "2  門號續約4G吃到飽不限速   \n",
       "3  門號續約4G吃到飽不限速   \n",
       "\n",
       "                                                                                                                                                                                                                                                                                                                                 內容  \\\n",
       "0  我今天幫客戶裝機的時候遇到一個很奇怪的問題中華電信給我的單子有以下資訊Mask 255.255.255.248Gateway 192.168.11.172理論上我有 7個可用 IP ↓192.168.11.172192.168.11.173192.168.11.174192.168.11.175192.168.11.176192.168.11.177192.168.11.178首先 173 和 174 後端已經有設備在使用了，然後 175 不能用，數據機搜尋不到這個設備，我以為是設備故障，換了三台都一樣，後來我將設備的 IP 改為 171，居然可以使用，我太驚訝了，我很好奇為什麼，希望有大大能為我解惑....先在此感謝各位先進前輩~   \n",
       "1                                                                                                                                                                                                                                                                                    請問目前各家電信，單純門號續約，還有500元以內的4G吃到飽不限速嗎？有沒有送市話的，謝謝！   \n",
       "2                                                                                                                                                                                                                                                                                     依照你的價格需求，目前應該只能先往台灣之星和亞太去找，關鍵字：新朋友399、238吃到飽。   \n",
       "3                                                                                                                                               在各電信收訊良好的情況可以考慮7-11的ibon mobile不限速(走遠傳線路)477元/月或無框行動不限速(走中華線路)466元/月(上述兩電信吃到飽不限速似乎好像有隱藏天花板，請自行查詢)或遠傳、台哥大的399電銷或亞太~12/31的238不限速吃到飽以上這些都低於500吃到飽另外，三大電信好像也有限速21M的吃到飽的方案，價錢大概都落在499元/月   \n",
       "\n",
       "   scoreFET  scoreTWN  scoreCHT  scoreGT  scoreTWNS  \n",
       "0       NaN       NaN       2.0      NaN        NaN  \n",
       "1       NaN       NaN       NaN      NaN        NaN  \n",
       "2       NaN       NaN       NaN      3.0        3.0  \n",
       "3       3.0       3.0       3.0      3.0        NaN  "
      ]
     },
     "execution_count": 18,
     "metadata": {},
     "output_type": "execute_result"
    }
   ],
   "source": [
    "pd.set_option(\"display.max_colwidth\", 500)\n",
    "df_raw[['標題','內容','scoreFET','scoreTWN','scoreCHT','scoreGT','scoreTWNS']].head(4)"
   ]
  },
  {
   "cell_type": "code",
   "execution_count": 13,
   "id": "8cbc7745",
   "metadata": {},
   "outputs": [],
   "source": [
    "df_final = df_raw[['發文者','標題','推回文類別','內容','發文時間','觀看次數','推噓評價','發文者分數','URL','crawel_type'\n",
    "                   ,'scoreFET','scoreTWN','scoreCHT','scoreGT','scoreTWNS']]"
   ]
  },
  {
   "cell_type": "code",
   "execution_count": 14,
   "id": "5cf330cb",
   "metadata": {},
   "outputs": [],
   "source": [
    "df_final.to_csv('./../crawler_data/clean_data/data_' + d1 + '.csv', index = False)"
   ]
  },
  {
   "cell_type": "code",
   "execution_count": null,
   "id": "46924876",
   "metadata": {},
   "outputs": [],
   "source": []
  },
  {
   "cell_type": "code",
   "execution_count": null,
   "id": "dc7ca307",
   "metadata": {},
   "outputs": [],
   "source": []
  },
  {
   "cell_type": "code",
   "execution_count": null,
   "id": "3eb54731",
   "metadata": {},
   "outputs": [],
   "source": []
  },
  {
   "cell_type": "code",
   "execution_count": null,
   "id": "34d7263a",
   "metadata": {},
   "outputs": [],
   "source": []
  }
 ],
 "metadata": {
  "kernelspec": {
   "display_name": "Python 3 (ipykernel)",
   "language": "python",
   "name": "python3"
  },
  "language_info": {
   "codemirror_mode": {
    "name": "ipython",
    "version": 3
   },
   "file_extension": ".py",
   "mimetype": "text/x-python",
   "name": "python",
   "nbconvert_exporter": "python",
   "pygments_lexer": "ipython3",
   "version": "3.7.10"
  }
 },
 "nbformat": 4,
 "nbformat_minor": 5
}
