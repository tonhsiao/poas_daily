{
 "cells": [
  {
   "cell_type": "markdown",
   "id": "48e3ef5c",
   "metadata": {},
   "source": [
    "## Step1：取得資料"
   ]
  },
  {
   "cell_type": "code",
   "execution_count": 1,
   "id": "4dafef2b",
   "metadata": {},
   "outputs": [],
   "source": [
    "# import date\n",
    "import datetime\n",
    "import pandas as pd\n",
    "from pathlib import Path\n",
    "\n",
    "d1 = datetime.date.today().strftime(\"%Y-%m-%d\")\n",
    "# d1 = '2022-01-05'"
   ]
  },
  {
   "cell_type": "code",
   "execution_count": 6,
   "id": "1f7af5ee",
   "metadata": {},
   "outputs": [],
   "source": [
    "# df = pd.read_csv('../data/final_' + d1 + '.csv', sep=',')   \n",
    "# df_raw = df[['發文者','標題','推回文類別','內容','發文時間','觀看次數','推噓評價','發文者分數','URL','crawel_type']]\n",
    "\n",
    "df = pd.read_csv('../data/final_' + d1 + '.csv', sep=',') \n",
    "df_raw = df  \n",
    "# df_raw = df[['發文者','標題','推回文類別','內容','發文時間','觀看次數','推噓評價','發文者分數','URL','crawel_type']]\n"
   ]
  },
  {
   "cell_type": "markdown",
   "id": "d5d9ebe1",
   "metadata": {},
   "source": [
    "## Step2: 取得各家情緒分數"
   ]
  },
  {
   "cell_type": "code",
   "execution_count": 3,
   "id": "2c1273c1",
   "metadata": {},
   "outputs": [],
   "source": [
    "#!pip install transformers #--use-feature=2020-resolver #requests beautifulsoup4 pandas numpy"
   ]
  },
  {
   "cell_type": "code",
   "execution_count": 4,
   "id": "da5fcf7a",
   "metadata": {},
   "outputs": [],
   "source": [
    "from transformers import AutoTokenizer, AutoModelForSequenceClassification,DistilBertTokenizer, DistilBertModel\n",
    "import torch\n",
    "import transformers"
   ]
  },
  {
   "cell_type": "code",
   "execution_count": 7,
   "id": "afa5b7f5",
   "metadata": {},
   "outputs": [],
   "source": [
    "pd.set_option('mode.chained_assignment', None)\n",
    "df_raw.loc[:,'corpus'] = df['title'].fillna(' ') + \": \" + df['content'].fillna(' ')"
   ]
  },
  {
   "cell_type": "code",
   "execution_count": 8,
   "id": "12fc557b",
   "metadata": {},
   "outputs": [],
   "source": [
    "conditionFilter = 'and ~(corpus.str.contains(\"廣告\"))'\n",
    "conditionFET = 'corpus.str.contains(\"遠傳|FET\") '\n",
    "conditionCHT = 'corpus.str.contains(\"中華|CHT\") '\n",
    "conditionGT = 'corpus.str.contains(\"亞太|APGT\") '\n",
    "conditionTWN = 'corpus.str.contains(\"台哥大|台灣大|TWN\") '\n",
    "conditionTWNS = 'corpus.str.contains(\"台星|台灣之星\") '\n",
    "\n",
    "df_FET = df_raw.query(conditionFET + conditionFilter , engine='python')\n",
    "df_CHT = df_raw.query(conditionCHT + conditionFilter , engine='python')\n",
    "df_GT = df_raw.query(conditionGT + conditionFilter , engine='python')\n",
    "df_TWN = df_raw.query(conditionTWN + conditionFilter , engine='python')\n",
    "df_TWNS = df_raw.query(conditionTWNS + conditionFilter , engine='python')"
   ]
  },
  {
   "cell_type": "code",
   "execution_count": 11,
   "id": "cadf8e7b",
   "metadata": {},
   "outputs": [
    {
     "data": {
      "text/plain": [
       "Embedding(105890, 768)"
      ]
     },
     "execution_count": 11,
     "metadata": {},
     "output_type": "execute_result"
    }
   ],
   "source": [
    "tokenizer = AutoTokenizer.from_pretrained('../module/bert-base-multilingual-uncased-sentiment')\n",
    "# tokenizer = AutoTokenizer.from_pretrained('adamlin/bert-distil-chinese')\n",
    "\n",
    "tokenizer.add_tokens(['遠傳','亞太','中華','台哥大','台灣大哥大','台星','台灣之星','5g','4g','5G','4G'], special_tokens=True)\n",
    "model = AutoModelForSequenceClassification.from_pretrained('../module/bert-base-multilingual-uncased-sentiment')\n",
    "model.aux_logits = False\n",
    "model.resize_token_embeddings(len(tokenizer))"
   ]
  },
  {
   "cell_type": "code",
   "execution_count": 12,
   "id": "af5c4b6c",
   "metadata": {},
   "outputs": [
    {
     "data": {
      "text/html": [
       "<div>\n",
       "<style scoped>\n",
       "    .dataframe tbody tr th:only-of-type {\n",
       "        vertical-align: middle;\n",
       "    }\n",
       "\n",
       "    .dataframe tbody tr th {\n",
       "        vertical-align: top;\n",
       "    }\n",
       "\n",
       "    .dataframe thead th {\n",
       "        text-align: right;\n",
       "    }\n",
       "</style>\n",
       "<table border=\"1\" class=\"dataframe\">\n",
       "  <thead>\n",
       "    <tr style=\"text-align: right;\">\n",
       "      <th></th>\n",
       "      <th>id</th>\n",
       "      <th>date</th>\n",
       "      <th>url</th>\n",
       "      <th>title</th>\n",
       "      <th>content</th>\n",
       "      <th>source</th>\n",
       "      <th>location</th>\n",
       "      <th>type</th>\n",
       "      <th>tags</th>\n",
       "      <th>corpus</th>\n",
       "    </tr>\n",
       "  </thead>\n",
       "  <tbody>\n",
       "    <tr>\n",
       "      <th>0</th>\n",
       "      <td>4bda7072-d6af-5976-97c9-8d2035ada346</td>\n",
       "      <td>2022-03-17 15:39:00</td>\n",
       "      <td>https://www.mobile01.com/topicdetail.php?f=18&amp;...</td>\n",
       "      <td>其實現在有一個盲點</td>\n",
       "      <td>遠傳和台哥大並沒有保證台星和亞太用戶能高速吧？最多只有訊號變好而已，不曉得為何有一堆釘子戶很...</td>\n",
       "      <td>mobile01</td>\n",
       "      <td>NaN</td>\n",
       "      <td>主文</td>\n",
       "      <td>網速</td>\n",
       "      <td>其實現在有一個盲點: 遠傳和台哥大並沒有保證台星和亞太用戶能高速吧？最多只有訊號變好而已，不...</td>\n",
       "    </tr>\n",
       "    <tr>\n",
       "      <th>1</th>\n",
       "      <td>e06049c8-9b67-57da-a8fd-56c6ebf69224</td>\n",
       "      <td>2022-03-17 15:31:51</td>\n",
       "      <td>https://www.facebook.com/100048659460746/posts...</td>\n",
       "      <td>手機續約</td>\n",
       "      <td>『3/17』\\n⚜️⚜️⚜️辦門號換現金 ⚜️⚜️⚜️\\n✅無任何還款壓力\\n✅單門最高30...</td>\n",
       "      <td>fb_search</td>\n",
       "      <td>NaN</td>\n",
       "      <td>主文</td>\n",
       "      <td>其他</td>\n",
       "      <td>手機續約: 『3/17』\\n⚜️⚜️⚜️辦門號換現金 ⚜️⚜️⚜️\\n✅無任何還款壓力\\n✅...</td>\n",
       "    </tr>\n",
       "    <tr>\n",
       "      <th>2</th>\n",
       "      <td>229d9b11-abd8-5c63-bbc6-251925625f87</td>\n",
       "      <td>2022-03-17 13:52:03</td>\n",
       "      <td>https://www.facebook.com/158495994283/posts/10...</td>\n",
       "      <td>NaN</td>\n",
       "      <td>醫療拚轉型！新光醫院與遠傳電信合作，一舉推動門診、急診、住院三大業務系統整合一次到位，為優化...</td>\n",
       "      <td>fans</td>\n",
       "      <td>NaN</td>\n",
       "      <td>主文</td>\n",
       "      <td>其他</td>\n",
       "      <td>: 醫療拚轉型！新光醫院與遠傳電信合作，一舉推動門診、急診、住院三大業務系統整合一次到位，...</td>\n",
       "    </tr>\n",
       "  </tbody>\n",
       "</table>\n",
       "</div>"
      ],
      "text/plain": [
       "                                     id                 date  \\\n",
       "0  4bda7072-d6af-5976-97c9-8d2035ada346  2022-03-17 15:39:00   \n",
       "1  e06049c8-9b67-57da-a8fd-56c6ebf69224  2022-03-17 15:31:51   \n",
       "2  229d9b11-abd8-5c63-bbc6-251925625f87  2022-03-17 13:52:03   \n",
       "\n",
       "                                                 url      title  \\\n",
       "0  https://www.mobile01.com/topicdetail.php?f=18&...  其實現在有一個盲點   \n",
       "1  https://www.facebook.com/100048659460746/posts...       手機續約   \n",
       "2  https://www.facebook.com/158495994283/posts/10...        NaN   \n",
       "\n",
       "                                             content     source location type  \\\n",
       "0  遠傳和台哥大並沒有保證台星和亞太用戶能高速吧？最多只有訊號變好而已，不曉得為何有一堆釘子戶很...   mobile01      NaN   主文   \n",
       "1  『3/17』\\n⚜️⚜️⚜️辦門號換現金 ⚜️⚜️⚜️\\n✅無任何還款壓力\\n✅單門最高30...  fb_search      NaN   主文   \n",
       "2  醫療拚轉型！新光醫院與遠傳電信合作，一舉推動門診、急診、住院三大業務系統整合一次到位，為優化...       fans      NaN   主文   \n",
       "\n",
       "  tags                                             corpus  \n",
       "0   網速  其實現在有一個盲點: 遠傳和台哥大並沒有保證台星和亞太用戶能高速吧？最多只有訊號變好而已，不...  \n",
       "1   其他  手機續約: 『3/17』\\n⚜️⚜️⚜️辦門號換現金 ⚜️⚜️⚜️\\n✅無任何還款壓力\\n✅...  \n",
       "2   其他   : 醫療拚轉型！新光醫院與遠傳電信合作，一舉推動門診、急診、住院三大業務系統整合一次到位，...  "
      ]
     },
     "execution_count": 12,
     "metadata": {},
     "output_type": "execute_result"
    }
   ],
   "source": [
    "df_raw.head(3)"
   ]
  },
  {
   "cell_type": "code",
   "execution_count": 14,
   "id": "deb5570e",
   "metadata": {},
   "outputs": [],
   "source": [
    "def get_score(com_type, corpus, content):\n",
    "    \n",
    "    if content.find(com_type):\n",
    "        corpus = content \n",
    "        #若內文有公司名稱,直接以內文分析, 標題不列入情緒分析\n",
    "        #若內文沒有公司名稱, 則以主題+內文分析.\n",
    "        #若只考慮內文,會有多筆都沒評分.\n",
    "    \n",
    "    tokens = tokenizer.encode(text=com_type, text_pair=corpus, \n",
    "                              return_tensors='pt', add_special_tokens = True)\n",
    "#     print(tokens[:100])\n",
    "#     print(tokenizer.convert_ids_to_tokens(tokens.squeeze())[:100])\n",
    "    result = model(tokens)\n",
    "    return int(torch.argmax(result.logits))+1\n",
    "\n",
    "com_arr = ['FET','GT','CHT','TWN','TWNS']\n",
    "com_name_arr = ['遠傳','亞太','中華','台哥大或台灣大哥大','台星或台灣之星']\n",
    "\n",
    "for i, v in enumerate(com_arr) :\n",
    "#     print(com_name_arr[i])\n",
    "#     print(len(locals()['df_'+v].index))\n",
    "#     print(pd.DataFrame(locals()['df_'+v]['corpus']).head(1))\n",
    "    df_raw['score'+v] = \" \"\n",
    "    if len(locals()['df_'+v].index) :\n",
    "        df_raw['score'+v] = pd.DataFrame(locals()['df_'+v]).apply(lambda r : get_score('對'+ com_name_arr[i] +'的看法:',\n",
    "                                                                                       r['corpus'][:500], r['content'][:500]), axis=1)\n"
   ]
  },
  {
   "cell_type": "code",
   "execution_count": 16,
   "id": "7bfed047",
   "metadata": {},
   "outputs": [],
   "source": [
    "# df_final = df_raw[['發文者','標題','推回文類別','內容','發文時間','觀看次數','推噓評價','發文者分數','URL','crawel_type'\n",
    "                #    ,'scoreFET','scoreTWN','scoreCHT','scoreGT','scoreTWNS']]\n",
    "df_final = df_raw                "
   ]
  },
  {
   "cell_type": "code",
   "execution_count": null,
   "id": "21a7a601",
   "metadata": {},
   "outputs": [],
   "source": [
    "# df_final.to_csv('./../crawler_data/clean_data/data_' + d1 + '.csv', index = False)"
   ]
  },
  {
   "cell_type": "code",
   "execution_count": 17,
   "id": "a38a2b59",
   "metadata": {},
   "outputs": [],
   "source": [
    "df_final.to_csv('final_' + d1 + '.csv', index = False)"
   ]
  },
  {
   "cell_type": "code",
   "execution_count": 1,
   "id": "63224857",
   "metadata": {},
   "outputs": [
    {
     "name": "stderr",
     "output_type": "stream",
     "text": [
      "[NbConvertApp] Converting notebook getSentimentAnalysis_bigtree.ipynb to script\n",
      "[NbConvertApp] Writing 3692 bytes to getSentimentAnalysis_bigtree.py\n"
     ]
    }
   ],
   "source": [
    "! jupyter nbconvert --to script getSentimentAnalysis_bigtree.ipynb"
   ]
  },
  {
   "cell_type": "code",
   "execution_count": null,
   "id": "aa815284",
   "metadata": {},
   "outputs": [],
   "source": []
  },
  {
   "cell_type": "code",
   "execution_count": null,
   "id": "c2fd4f37",
   "metadata": {},
   "outputs": [],
   "source": []
  }
 ],
 "metadata": {
  "kernelspec": {
   "display_name": "Python 3 (ipykernel)",
   "language": "python",
   "name": "python3"
  },
  "language_info": {
   "codemirror_mode": {
    "name": "ipython",
    "version": 3
   },
   "file_extension": ".py",
   "mimetype": "text/x-python",
   "name": "python",
   "nbconvert_exporter": "python",
   "pygments_lexer": "ipython3",
   "version": "3.8.10"
  }
 },
 "nbformat": 4,
 "nbformat_minor": 5
}
